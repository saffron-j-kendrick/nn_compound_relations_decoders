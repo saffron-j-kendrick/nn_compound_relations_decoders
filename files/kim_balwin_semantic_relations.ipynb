{
 "cells": [
  {
   "cell_type": "code",
   "execution_count": 72,
   "metadata": {},
   "outputs": [],
   "source": [
    "import os\n",
    "\n",
    "import pandas as pd\n",
    "import numpy as np"
   ]
  },
  {
   "cell_type": "code",
   "execution_count": 19,
   "metadata": {},
   "outputs": [],
   "source": [
    "data_dir = '../data/kim_baldwin_semantic_relations/'\n",
    "\n",
    "test_data = pd.read_csv('{}/test'.format(data_dir), delimiter='\\t', header=None, names=['compound', 'relation'])\n",
    "train_data = pd.read_csv('{}/train'.format(data_dir), delimiter='\\t', header=None, names=['compound', 'relation'])"
   ]
  },
  {
   "cell_type": "code",
   "execution_count": 25,
   "metadata": {},
   "outputs": [
    {
     "data": {
      "text/plain": [
       "((1081, 2), (1088, 2), 2169)"
      ]
     },
     "execution_count": 25,
     "metadata": {},
     "output_type": "execute_result"
    }
   ],
   "source": [
    "test_data.shape, train_data.shape, test_data.shape[0] + train_data.shape[0]"
   ]
  },
  {
   "cell_type": "code",
   "execution_count": 55,
   "metadata": {},
   "outputs": [],
   "source": [
    "all_data = pd.concat([train_data, test_data])"
   ]
  },
  {
   "cell_type": "code",
   "execution_count": 37,
   "metadata": {},
   "outputs": [
    {
     "data": {
      "text/plain": [
       "163"
      ]
     },
     "execution_count": 37,
     "metadata": {},
     "output_type": "execute_result"
    }
   ],
   "source": [
    "len([x for x in all_data.iloc if type(x.relation) is str and  '/' in x.relation])"
   ]
  },
  {
   "cell_type": "code",
   "execution_count": 109,
   "metadata": {},
   "outputs": [
    {
     "name": "stdout",
     "output_type": "stream",
     "text": [
      "'object/topic' (18), 'purpose/topic' (16), 'topic/purpose' (13), 'cause/source' (10), 'source/cause' (9), 'topic/source' (9), 'topic/object' (8), 'content/topic' (7), 'topic/location' (6), 'result/topic' (5), 'source/topic' (5), 'topic/product' (4), 'purpose/object' (3), 'purpose/source' (3), 'topic/container' (3), 'container/topic' (2), 'object/purpose' (2), 'property/purpose' (2), 'property/topic' (2), 'topic/property' (2), "
     ]
    },
    {
     "data": {
      "text/plain": [
       "[None,\n",
       " None,\n",
       " None,\n",
       " None,\n",
       " None,\n",
       " None,\n",
       " None,\n",
       " None,\n",
       " None,\n",
       " None,\n",
       " None,\n",
       " None,\n",
       " None,\n",
       " None,\n",
       " None,\n",
       " None,\n",
       " None,\n",
       " None,\n",
       " None,\n",
       " None]"
      ]
     },
     "execution_count": 109,
     "metadata": {},
     "output_type": "execute_result"
    }
   ],
   "source": [
    "[print(\"'{}' ({}), \".format(x[0], x[1]), end='') for x in sorted([(x[0], len(x[1])) for x in all_data.groupby('relation') if '/' in x[0]], reverse=True, key=lambda y: y[-1])[:20]]"
   ]
  },
  {
   "cell_type": "code",
   "execution_count": 87,
   "metadata": {},
   "outputs": [
    {
     "name": "stderr",
     "output_type": "stream",
     "text": [
      "/home/mark/miniconda3/envs/black_box_nlp_semantic_similarity/lib/python3.7/site-packages/ipykernel_launcher.py:2: FutureWarning: elementwise comparison failed; returning scalar instead, but in the future will perform elementwise comparison\n",
      "  \n"
     ]
    }
   ],
   "source": [
    "sorted_relations = np.array([x[0] for x in sorted(all_data.groupby('relation'), reverse=True, key=lambda x: len(x[1]))])\n",
    "relation_order = [np.argwhere(sorted_relations==x.relation)[0][0] if np.argwhere(sorted_relations==x.relation).size > 0 else 10000 for x in all_data.iloc]"
   ]
  },
  {
   "cell_type": "code",
   "execution_count": 94,
   "metadata": {},
   "outputs": [
    {
     "name": "stdout",
     "output_type": "stream",
     "text": [
      "'topic', 'purpose', 'property', 'source', 'object', 'cause', 'content', 'product', 'possessor', 'time', 'location', 'equative', 'material', 'located', 'container', 'beneficiary', 'instrument', 'agent', 'result', 'destination', "
     ]
    },
    {
     "data": {
      "text/plain": [
       "[None,\n",
       " None,\n",
       " None,\n",
       " None,\n",
       " None,\n",
       " None,\n",
       " None,\n",
       " None,\n",
       " None,\n",
       " None,\n",
       " None,\n",
       " None,\n",
       " None,\n",
       " None,\n",
       " None,\n",
       " None,\n",
       " None,\n",
       " None,\n",
       " None,\n",
       " None]"
      ]
     },
     "execution_count": 94,
     "metadata": {},
     "output_type": "execute_result"
    }
   ],
   "source": [
    "[print(\"'{}',\".format(x), end=' ') for x in all_data.sort_values('relation_order').relation.unique() if type(x) is str and '/' not in x]"
   ]
  },
  {
   "cell_type": "markdown",
   "metadata": {},
   "source": [
    "### Relations\n",
    "\n",
    "- {agent} {head_noun is performed by modifier} (e.g. student protest, band concert, military assault)\n",
    "- {beneficiary} {modifier benefits from head_noun} {e.g. student price, charitable compound}\n",
    "- {cause} {modifier causes head_noun} {e.g. printer tray, flood water, film music, story idea}\n",
    "- {container} {modifier contains head_noun} {e.g. exam anxiety, overdue fine}\n",
    "- {content} {modifier is contained in head_noun} {e.g. paper tray, eviction notice, oil pan}\n",
    "- {destination} {modifier is destination of head_noun} {e.g. game bus, exit route, entrance stairs}\n",
    "- {equative} {modifier is also head} {e.g. composer arranger, player coach}\n",
    "- {instrument} {modifier is used in head_noun} {e.g. electron microscope, diesel engine, laser printer}\n",
    "- {located} {modifier is located at head_noun} {e.g. building site, home town, solar system}\n",
    "- {location} {modifier is the location of head_noun} {e.g. lab printer, desert storm, internal combustion}\n",
    "- {material} {head_noun is made of modifier} {e.g. carbon deposit, gingerbread man, water vapour}\n",
    "- {object} {modifier is acted on by head_noun} {e.g. engine repair, horse doctor}\n",
    "- {possessor} {modifier has head_noun} {e.g. student loan, company car}\n",
    "- {product} {modifier is a product of head_noun} {e.g. automobile factory, light bulb, color printer}\n",
    "- {property} {head_noun is modifier} {e.g. elephant seal, blue car, big house, fast computer}\n",
    "- {purpose} {head_noun is meant for modifier} {e.g. concert hall, soup pot, grinding abrasive}\n",
    "- {result} {modifier is a result of head_noun} {e.g. storm cloud, cold virus, death penalty}\n",
    "- {source} {modifier is the source of head_noun} {e.g. chest pain, north wind}\n",
    "- {time} {modifier is the time of head_noun} {e.g. winter semester, morning class, late supper}\n",
    "- {topic} {head_noun is concerned with modifier} {e.g. computer expert, safety standard, horror novel}"
   ]
  }
 ],
 "metadata": {
  "kernelspec": {
   "display_name": "Python (bert-brains)",
   "language": "python",
   "name": "bert-brains"
  },
  "language_info": {
   "codemirror_mode": {
    "name": "ipython",
    "version": 3
   },
   "file_extension": ".py",
   "mimetype": "text/x-python",
   "name": "python",
   "nbconvert_exporter": "python",
   "pygments_lexer": "ipython3",
   "version": "3.9.6"
  }
 },
 "nbformat": 4,
 "nbformat_minor": 4
}
