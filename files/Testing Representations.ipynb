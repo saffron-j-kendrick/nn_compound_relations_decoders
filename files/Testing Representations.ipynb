{
 "cells": [
  {
   "cell_type": "code",
   "execution_count": 2,
   "metadata": {},
   "outputs": [],
   "source": [
    "import os\n",
    "import numpy as np"
   ]
  },
  {
   "cell_type": "code",
   "execution_count": 3,
   "metadata": {},
   "outputs": [],
   "source": [
    "devereux_dataset_sentences = np.array([x.split('\\t') for x in open('../data/noun_noun_compounds/composition/probe_words_and_sentences.txt').read().split('\\n')][:-1])"
   ]
  },
  {
   "cell_type": "code",
   "execution_count": 4,
   "metadata": {},
   "outputs": [],
   "source": [
    "original_dataset_sentences = np.array([x.split('\\t') for x in open('../data/noun_noun_compounds/composition/probe_words_and_sentences_300.txt').read().split('\\n')][:-1])"
   ]
  },
  {
   "cell_type": "code",
   "execution_count": 5,
   "metadata": {},
   "outputs": [
    {
     "data": {
      "text/plain": [
       "'It is a murder'"
      ]
     },
     "execution_count": 5,
     "metadata": {},
     "output_type": "execute_result"
    }
   ],
   "source": [
    "devereux_dataset_sentences[0][-1]"
   ]
  },
  {
   "cell_type": "code",
   "execution_count": 6,
   "metadata": {},
   "outputs": [],
   "source": [
    "false_results = np.argwhere(np.array([len(np.argwhere(original_dataset_sentences == x[-1])) > 0 for x in devereux_dataset_sentences]) == False)"
   ]
  },
  {
   "cell_type": "code",
   "execution_count": 9,
   "metadata": {},
   "outputs": [
    {
     "name": "stdout",
     "output_type": "stream",
     "text": [
      "( [9] [['magazine' 'It is a magazine']] )\n",
      "[10] [['sewing' 'It is sewing']]\n",
      "( [11] [['magazine' 'It is a magazine']] )\n",
      "\n",
      "( [17] [['stables' 'They are stables']] )\n",
      "[18] [['cream' 'It is a cream']]\n",
      "( [19] [['churn' 'It is a churn']] )\n",
      "\n",
      "( [19] [['churn' 'It is a churn']] )\n",
      "[20] [['paper' 'It is a paper']]\n",
      "( [21] [['staples' 'They are staples']] )\n",
      "\n",
      "( [29] [['sound' 'It is a sound']] )\n",
      "[30] [['alcohol' 'It is an alcohol']]\n",
      "( [31] [['headache' 'It is a headache']] )\n",
      "\n",
      "( [59] [['stove' 'It is a stove']] )\n",
      "[60] [['grain' 'It is a grain']]\n",
      "( [61] [['controversy' 'It is a controversy']] )\n",
      "\n",
      "( [67] [['comedy' 'It is a comedy']] )\n",
      "[68] [['grain' 'It is a grain']]\n",
      "( [69] [['law' 'It is a law']] )\n",
      "\n",
      "( [71] [['report' 'It is a report']] )\n",
      "[72] [['construction' 'It is a construction']]\n",
      "( [73] [['equipment' 'It is equipment']] )\n",
      "\n",
      "( [73] [['equipment' 'It is equipment']] )\n",
      "[74] [['gestation' 'It is a gestation']]\n",
      "( [75] [['season' 'It is a season']] )\n",
      "\n",
      "( [80] [['flu' 'It is a flu']] )\n",
      "[81] [['therapy' 'It is a therapy']]\n",
      "( [82] [['infant' 'It is an infant']] )\n",
      "\n",
      "( [88] [['weight' 'It is a weight']] )\n",
      "[89] [['pressure' 'It is a pressure']]\n",
      "( [90] [['allergy' 'It is an allergy']] )\n",
      "\n",
      "( [94] [['tax' 'It is a tax']] )\n",
      "[95] [['pressure' 'It is a pressure']]\n",
      "( [96] [['floral' 'It is floral']] )\n",
      "\n",
      "( [99] [['sauce' 'It is a sauce']] )\n",
      "[100] [['vapor' 'It is a vapor']]\n",
      "( [101] [['drops' 'They are drops']] )\n",
      "\n",
      "( [101] [['drops' 'They are drops']] )\n",
      "[102] [['glass' 'They are glass']]\n",
      "( [103] [['light' 'It is a light']] )\n",
      "\n",
      "( [105] [['equipment' 'It is equipment']] )\n",
      "[106] [['vapor' 'It is a vapor']]\n",
      "( [107] [['cloud' 'It is a cloud']] )\n",
      "\n",
      "( [113] [['freshener' 'It is a freshener']] )\n",
      "[114] [['oil' 'It is an oil']]\n",
      "( [115] [['treatment' 'It is a treatment']] )\n",
      "\n"
     ]
    }
   ],
   "source": [
    "for x in false_results:\n",
    "    print('(', x-1, devereux_dataset_sentences[x-1], ')')\n",
    "    print(x, devereux_dataset_sentences[x])\n",
    "    print('(', x+1, devereux_dataset_sentences[x + 1], ')')\n",
    "\n",
    "    print()"
   ]
  },
  {
   "cell_type": "code",
   "execution_count": null,
   "metadata": {},
   "outputs": [],
   "source": []
  }
 ],
 "metadata": {
  "kernelspec": {
   "display_name": "Python 3 (ipykernel)",
   "language": "python",
   "name": "python3"
  },
  "language_info": {
   "codemirror_mode": {
    "name": "ipython",
    "version": 3
   },
   "file_extension": ".py",
   "mimetype": "text/x-python",
   "name": "python",
   "nbconvert_exporter": "python",
   "pygments_lexer": "ipython3",
   "version": "3.10.4"
  }
 },
 "nbformat": 4,
 "nbformat_minor": 4
}
