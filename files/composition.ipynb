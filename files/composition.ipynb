{
 "cells": [
  {
   "cell_type": "code",
   "execution_count": 1,
   "metadata": {},
   "outputs": [],
   "source": [
    "import os\n",
    "\n",
    "import pandas as pd\n",
    "import numpy as np\n",
    "\n",
    "import rsa, data_utils, model_utils, representations"
   ]
  },
  {
   "cell_type": "markdown",
   "metadata": {},
   "source": [
    "## Generating sentences"
   ]
  },
  {
   "cell_type": "code",
   "execution_count": 2,
   "metadata": {},
   "outputs": [],
   "source": [
    "sentences = data_utils.get_noun_noun_compound_sentences(data_loc='../data')\n",
    "mod_head_words_per_sentence = data_utils.get_noun_noun_mod_head_words_per_sentence(data_loc='../data')\n",
    "corrected_form_compounds_per_sentence = data_utils.load_corrected_form_compounds_per_sentence(data_loc='../data')"
   ]
  },
  {
   "cell_type": "code",
   "execution_count": 3,
   "metadata": {},
   "outputs": [],
   "source": [
    "df = pd.read_excel('../data/noun_noun_compounds/nn_tax_data.xlsx', skiprows=9)\n",
    "\n",
    "relation_vectors = []\n",
    "compounds = []\n",
    "glosses = []\n",
    "original_inds = []\n",
    "\n",
    "for x in df.groupby('itemnr'):\n",
    "    relation_vectors.append((x[1]['count vector'].tolist()))\n",
    "    compounds.append('{} {}'.format(x[1]['modifier'].tolist()[0], x[1]['headnoun'].tolist()[0]))\n",
    "    glosses.append(x[1]['gloss'].tolist()[0])\n",
    "    original_inds.append(x[1]['Orig nr'].tolist()[0])\n",
    "    \n",
    "relation_vectors = np.array(relation_vectors)\n",
    "compounds = np.array(compounds)\n",
    "glosses = np.array(glosses)\n",
    "original_inds = np.array(original_inds)"
   ]
  },
  {
   "cell_type": "code",
   "execution_count": 4,
   "metadata": {},
   "outputs": [],
   "source": [
    "ind_dict = {}\n",
    "\n",
    "for gloss_i, gloss in enumerate(glosses):\n",
    "    for i, sentence in enumerate(sentences):\n",
    "        if gloss.strip() in sentence:\n",
    "            ind_dict[gloss_i] = i\n",
    "            break"
   ]
  },
  {
   "cell_type": "code",
   "execution_count": 5,
   "metadata": {},
   "outputs": [],
   "source": [
    "use_gloss_inds = False\n",
    "\n",
    "original_inds = np.array(list(ind_dict.values()))\n",
    "\n",
    "if not use_gloss_inds:\n",
    "    original_inds = original_inds % 300"
   ]
  },
  {
   "cell_type": "code",
   "execution_count": 6,
   "metadata": {},
   "outputs": [
    {
     "name": "stdout",
     "output_type": "stream",
     "text": [
      "'propane', 'plastic', 'traffic', 'economic', 'industrial', 'financial', 'steel', 'electric', 'hydrogen', 'steam', "
     ]
    },
    {
     "data": {
      "text/plain": [
       "[None, None, None, None, None, None, None, None, None, None]"
      ]
     },
     "execution_count": 6,
     "metadata": {},
     "output_type": "execute_result"
    }
   ],
   "source": [
    "[print(\"'{}', \".format(x), end='') for x in \"propane plastic traffic economic industrial financial steel electric hydrogen steam\".split()]"
   ]
  },
  {
   "cell_type": "code",
   "execution_count": 7,
   "metadata": {},
   "outputs": [
    {
     "data": {
      "text/plain": [
       "['probe_words_and_sentences.txt',\n",
       " 'probe_sentences.csv',\n",
       " 'probe_sentences.txt',\n",
       " 'probe_sentences.csv.npy']"
      ]
     },
     "execution_count": 7,
     "metadata": {},
     "output_type": "execute_result"
    }
   ],
   "source": [
    "os.listdir('../data/noun_noun_compounds/composition')"
   ]
  },
  {
   "cell_type": "code",
   "execution_count": 8,
   "metadata": {},
   "outputs": [],
   "source": [
    "def get_sentence(word, prefixes=['It is', 'They are']):\n",
    "    \n",
    "    no_article_words = ['anxiety', 'sewing', 'sugar', 'Christmas', 'wood', 'grass', 'floral', 'rain', 'torture', 'thermal', 'equipment', 'propane', 'plastic', 'traffic', 'economic', 'industrial',\n",
    "                        'financial', 'steel', 'electric', 'hydrogen', 'steam', 'chocolate']\n",
    "    \n",
    "    non_plural_words = ['Christmas', 'grass', 'gas']\n",
    "    plural = word not in non_plural_words and word[-1] == 's'\n",
    "    \n",
    "    article = '' if plural or word in no_article_words else ('an ' if word[0] in ['a', 'e', 'i', 'o', 'u']  else 'a ')\n",
    "    prefix = prefixes[-1] if plural else prefixes[0]\n",
    "    return \"{} {}{}\".format(prefix, article, word)\n",
    "\n",
    "new_sents = []\n",
    "\n",
    "for compound in compounds:\n",
    "    new_sents.append(get_sentence(compound.split()[0]))\n",
    "    new_sents.append(get_sentence(compound.split()[1]))\n",
    "    \n",
    "file = open('../data/noun_noun_compounds/composition/probe_words_and_sentences.txt', mode='w')\n",
    "for sent in new_sents:\n",
    "    file.write('{}\\t{}\\n'.format(sent.split()[-1], sent))\n",
    "file.close()"
   ]
  },
  {
   "cell_type": "code",
   "execution_count": 9,
   "metadata": {},
   "outputs": [
    {
     "name": "stdout",
     "output_type": "stream",
     "text": [
      "murder\tIt is a murder\n",
      "film\tIt is a film\n",
      "song\tIt is a song\n",
      "magazine\tIt is a magazine\n",
      "war\tIt is a war\n",
      "riots\tThey are riots\n",
      "job\tIt is a job\n",
      "anxiety\tIt is anxiety\n",
      "mountain\tIt is a mountain\n",
      "magazine\tIt is a magazine\n",
      "sewing\tIt is sewing\n",
      "magazine\tIt is a magazine\n",
      "breakfast\tIt is a breakfast\n",
      "sugar\tIt is sugar\n",
      "Christmas\tIt is Christmas\n",
      "wreath\tIt is a wreath\n",
      "horse\tIt is a horse\n",
      "stables\tThey are stables\n",
      "cream\tIt is a cream\n",
      "churn\tIt is a churn\n",
      "paper\tIt is a paper\n",
      "staples\tThey are staples\n",
      "wood\tIt is wood\n",
      "chisel\tIt is a chisel\n",
      "birth\tIt is a birth\n",
      "cramp\tIt is a cramp\n",
      "drum\tIt is a drum\n",
      "sound\tIt is a sound\n",
      "nose\tIt is a nose\n",
      "sound\tIt is a sound\n",
      "alcohol\tIt is an alcohol\n",
      "headache\tIt is a headache\n",
      "coffee\tIt is a coffee\n",
      "stain\tIt is a stain\n",
      "coffee\tIt is a coffee\n",
      "tension\tIt is a tension\n",
      "grass\tIt is grass\n",
      "shavings\tThey are shavings\n",
      "rain\tIt is rain\n",
      "drops\tThey are drops\n",
      "vegetable\tIt is a vegetable\n",
      "appetizer\tIt is an appetizer\n",
      "chocolate\tIt is chocolate\n",
      "shavings\tThey are shavings\n",
      "floral\tIt is floral\n",
      "wreath\tIt is a wreath\n",
      "olive\tIt is an olive\n",
      "paste\tIt is a paste\n",
      "cable\tIt is a cable\n",
      "pulley\tIt is a pulley\n",
      "coil\tIt is a coil\n",
      "lock\tIt is a lock\n",
      "thermal\tIt is thermal\n",
      "torture\tIt is torture\n",
      "gas\tIt is a gas\n",
      "lamp\tIt is a lamp\n",
      "propane\tIt is propane\n",
      "stove\tIt is a stove\n",
      "wood\tIt is wood\n",
      "stove\tIt is a stove\n",
      "grain\tIt is a grain\n",
      "controversy\tIt is a controversy\n",
      "plastic\tIt is plastic\n",
      "shortage\tIt is a shortage\n",
      "traffic\tIt is traffic\n",
      "law\tIt is a law\n",
      "economic\tIt is economic\n",
      "comedy\tIt is a comedy\n",
      "grain\tIt is a grain\n",
      "law\tIt is a law\n",
      "plastic\tIt is plastic\n",
      "report\tIt is a report\n",
      "construction\tIt is a construction\n",
      "equipment\tIt is equipment\n",
      "gestation\tIt is a gestation\n",
      "season\tIt is a season\n",
      "industrial\tIt is industrial\n",
      "lock\tIt is a lock\n",
      "financial\tIt is financial\n",
      "remedy\tIt is a remedy\n",
      "flu\tIt is a flu\n",
      "therapy\tIt is a therapy\n",
      "infant\tIt is an infant\n",
      "pills\tThey are pills\n",
      "nose\tIt is a nose\n",
      "itch\tIt is an itch\n",
      "tax\tIt is a tax\n",
      "wealth\tIt is a wealth\n",
      "weight\tIt is a weight\n",
      "pressure\tIt is a pressure\n",
      "allergy\tIt is an allergy\n",
      "rash\tIt is a rash\n",
      "financial\tIt is financial\n",
      "problem\tIt is a problem\n",
      "tax\tIt is a tax\n",
      "pressure\tIt is a pressure\n",
      "floral\tIt is floral\n",
      "perfume\tIt is a perfume\n",
      "pumpkin\tIt is a pumpkin\n",
      "sauce\tIt is a sauce\n",
      "vapor\tIt is a vapor\n",
      "drops\tThey are drops\n",
      "glass\tThey are glass\n",
      "light\tIt is a light\n",
      "steel\tIt is steel\n",
      "equipment\tIt is equipment\n",
      "vapor\tIt is a vapor\n",
      "cloud\tIt is a cloud\n",
      "electric\tIt is electric\n",
      "brake\tIt is a brake\n",
      "hydrogen\tIt is hydrogen\n",
      "wheel\tIt is a wheel\n",
      "wood\tIt is wood\n",
      "freshener\tIt is a freshener\n",
      "oil\tIt is an oil\n",
      "treatment\tIt is a treatment\n",
      "steam\tIt is steam\n",
      "turbine\tIt is a turbine\n",
      "thermal\tIt is thermal\n",
      "wheel\tIt is a wheel\n",
      "\n"
     ]
    },
    {
     "data": {
      "text/plain": [
       "[None,\n",
       " None,\n",
       " None,\n",
       " None,\n",
       " None,\n",
       " None,\n",
       " None,\n",
       " None,\n",
       " None,\n",
       " None,\n",
       " None,\n",
       " None,\n",
       " None,\n",
       " None,\n",
       " None,\n",
       " None,\n",
       " None,\n",
       " None,\n",
       " None,\n",
       " None,\n",
       " None,\n",
       " None,\n",
       " None,\n",
       " None,\n",
       " None,\n",
       " None,\n",
       " None,\n",
       " None,\n",
       " None,\n",
       " None,\n",
       " None,\n",
       " None,\n",
       " None,\n",
       " None,\n",
       " None,\n",
       " None,\n",
       " None,\n",
       " None,\n",
       " None,\n",
       " None,\n",
       " None,\n",
       " None,\n",
       " None,\n",
       " None,\n",
       " None,\n",
       " None,\n",
       " None,\n",
       " None,\n",
       " None,\n",
       " None,\n",
       " None,\n",
       " None,\n",
       " None,\n",
       " None,\n",
       " None,\n",
       " None,\n",
       " None,\n",
       " None,\n",
       " None,\n",
       " None,\n",
       " None,\n",
       " None,\n",
       " None,\n",
       " None,\n",
       " None,\n",
       " None,\n",
       " None,\n",
       " None,\n",
       " None,\n",
       " None,\n",
       " None,\n",
       " None,\n",
       " None,\n",
       " None,\n",
       " None,\n",
       " None,\n",
       " None,\n",
       " None,\n",
       " None,\n",
       " None,\n",
       " None,\n",
       " None,\n",
       " None,\n",
       " None,\n",
       " None,\n",
       " None,\n",
       " None,\n",
       " None,\n",
       " None,\n",
       " None,\n",
       " None,\n",
       " None,\n",
       " None,\n",
       " None,\n",
       " None,\n",
       " None,\n",
       " None,\n",
       " None,\n",
       " None,\n",
       " None,\n",
       " None,\n",
       " None,\n",
       " None,\n",
       " None,\n",
       " None,\n",
       " None,\n",
       " None,\n",
       " None,\n",
       " None,\n",
       " None,\n",
       " None,\n",
       " None,\n",
       " None,\n",
       " None,\n",
       " None,\n",
       " None,\n",
       " None,\n",
       " None,\n",
       " None,\n",
       " None,\n",
       " None]"
      ]
     },
     "execution_count": 9,
     "metadata": {},
     "output_type": "execute_result"
    }
   ],
   "source": [
    "[print(x) for x in open('../data/noun_noun_compounds/composition/probe_words_and_sentences.txt').read().split('\\n')]"
   ]
  },
  {
   "cell_type": "code",
   "execution_count": 14,
   "metadata": {},
   "outputs": [
    {
     "data": {
      "text/plain": [
       "121"
      ]
     },
     "execution_count": 14,
     "metadata": {},
     "output_type": "execute_result"
    }
   ],
   "source": [
    "len([x for x in open('../data/noun_noun_compounds/composition/probe_words_and_sentences.txt').read().split('\\n')])"
   ]
  },
  {
   "cell_type": "code",
   "execution_count": null,
   "metadata": {},
   "outputs": [],
   "source": []
  },
  {
   "cell_type": "code",
   "execution_count": null,
   "metadata": {},
   "outputs": [],
   "source": []
  }
 ],
 "metadata": {
  "kernelspec": {
   "display_name": "Python (bert-brains)",
   "language": "python",
   "name": "bert-brains"
  },
  "language_info": {
   "codemirror_mode": {
    "name": "ipython",
    "version": 3
   },
   "file_extension": ".py",
   "mimetype": "text/x-python",
   "name": "python",
   "nbconvert_exporter": "python",
   "pygments_lexer": "ipython3",
   "version": "3.9.6"
  }
 },
 "nbformat": 4,
 "nbformat_minor": 4
}
